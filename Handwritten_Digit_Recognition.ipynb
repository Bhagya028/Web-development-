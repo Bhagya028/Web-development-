{
  "nbformat": 4,
  "nbformat_minor": 0,
  "metadata": {
    "kernelspec": {
      "display_name": "Python 3",
      "language": "python",
      "name": "python3"
    },
    "language_info": {
      "codemirror_mode": {
        "name": "ipython",
        "version": 3
      },
      "file_extension": ".py",
      "mimetype": "text/x-python",
      "name": "python",
      "nbconvert_exporter": "python",
      "pygments_lexer": "ipython3",
      "version": "3.6.10"
    },
    "colab": {
      "name": "Handwritten_Digit_Recognition.ipynb",
      "provenance": [],
      "include_colab_link": true
    }
  },
  "cells": [
    {
      "cell_type": "markdown",
      "metadata": {
        "id": "view-in-github",
        "colab_type": "text"
      },
      "source": [
        "<a href=\"https://colab.research.google.com/github/Bhagya028/Web-development-/blob/main/Handwritten_Digit_Recognition.ipynb\" target=\"_parent\"><img src=\"https://colab.research.google.com/assets/colab-badge.svg\" alt=\"Open In Colab\"/></a>"
      ]
    },
    {
      "cell_type": "markdown",
      "metadata": {
        "id": "wzSP2HulNRwW"
      },
      "source": [
        "# Handwritten Digit Recognition"
      ]
    },
    {
      "cell_type": "markdown",
      "metadata": {
        "id": "xvHbSxjnNWiB"
      },
      "source": [
        "Goal : Identify Handwritten Digits\n",
        "\n",
        "Description : Images of handwritten digits are uploaded from tensorflow MNIST dataset and using Neural network model we identify the digits."
      ]
    },
    {
      "cell_type": "markdown",
      "metadata": {
        "id": "TLLIIKWIKsUr"
      },
      "source": [
        "# Import Libraries"
      ]
    },
    {
      "cell_type": "code",
      "metadata": {
        "id": "okz1VJ4AdZBl"
      },
      "source": [
        "# Store data and data manipuation\n",
        "import numpy as np\n",
        "# Visualisation libraries\n",
        "%matplotlib inline\n",
        "import matplotlib.pyplot as plt\n",
        "\n",
        "# Upload dataset and create model\n",
        "import tensorflow as tf"
      ],
      "execution_count": 1,
      "outputs": []
    },
    {
      "cell_type": "markdown",
      "metadata": {
        "id": "O3Cz8tgDKzDr"
      },
      "source": [
        "# Download data"
      ]
    },
    {
      "cell_type": "code",
      "metadata": {
        "id": "M74397AfdZBu",
        "colab": {
          "base_uri": "https://localhost:8080/"
        },
        "outputId": "169785f0-7dbb-4103-f6e2-c9500d897496"
      },
      "source": [
        "(x_train, y_train), (x_test, y_test) = tf.keras.datasets.mnist.load_data()"
      ],
      "execution_count": 2,
      "outputs": [
        {
          "output_type": "stream",
          "name": "stdout",
          "text": [
            "Downloading data from https://storage.googleapis.com/tensorflow/tf-keras-datasets/mnist.npz\n",
            "\u001b[1m11490434/11490434\u001b[0m \u001b[32m━━━━━━━━━━━━━━━━━━━━\u001b[0m\u001b[37m\u001b[0m \u001b[1m1s\u001b[0m 0us/step\n"
          ]
        }
      ]
    },
    {
      "cell_type": "markdown",
      "metadata": {
        "id": "l9wWqrR1LeFM"
      },
      "source": [
        "# Data Analysation"
      ]
    },
    {
      "cell_type": "code",
      "metadata": {
        "id": "a0tTZUsEdZB0",
        "colab": {
          "base_uri": "https://localhost:8080/",
          "height": 826
        },
        "outputId": "296392fc-87ba-4d38-d112-fc49810c8f44"
      },
      "source": [
        "# Visaulize the data\n",
        "plt.figure(figsize = (10, 10))\n",
        "for i in range(0,16):\n",
        "  plt.subplot(4, 4, i + 1)\n",
        "  plt.imshow(x_train[i], cmap= 'binary')\n",
        "  plt.xlabel(str(y_train[i]))\n",
        "  plt.xticks([])\n",
        "  plt.yticks([])"
      ],
      "execution_count": 3,
      "outputs": [
        {
          "output_type": "display_data",
          "data": {
            "text/plain": [
              "<Figure size 1000x1000 with 16 Axes>"
            ],
            "image/png": "[encoded data removed]"
          },
          "metadata": {}
        }
      ]
    },
    {
      "cell_type": "code",
      "metadata": {
        "id": "zx_X8JMjdZB5",
        "colab": {
          "base_uri": "https://localhost:8080/"
        },
        "outputId": "4e8ec9fb-8bcb-45e3-a69f-54427624fb24"
      },
      "source": [
        "# Dataset information\n",
        "print(x_train.shape)\n",
        "print(x_test.shape)"
      ],
      "execution_count": 4,
      "outputs": [
        {
          "output_type": "stream",
          "name": "stdout",
          "text": [
            "(60000, 28, 28)\n",
            "(10000, 28, 28)\n"
          ]
        }
      ]
    },
    {
      "cell_type": "code",
      "metadata": {
        "id": "tJtkgNBodZB9"
      },
      "source": [
        "#Normalize data\n",
        "x_train = np.reshape(x_train, (60000, 28 *28))\n",
        "x_test = np.reshape(x_test, (10000, 28 *28))\n",
        "x_train = x_train / 255\n",
        "x_test = x_test / 255"
      ],
      "execution_count": 5,
      "outputs": []
    },
    {
      "cell_type": "markdown",
      "metadata": {
        "id": "jgOiP2HXL-ra"
      },
      "source": [
        "# Neural Network Model"
      ]
    },
    {
      "cell_type": "code",
      "metadata": {
        "id": "qZo6j9VIdZCA"
      },
      "source": [
        "import tensorflow as tf\n",
        "\n",
        "model = tf.keras.models.Sequential([\n",
        "    tf.keras.layers.Reshape((28, 28, 1), input_shape=(784,)),  # if input is flattened\n",
        "    tf.keras.layers.Conv2D(32, (3, 3), activation='relu'),\n",
        "    tf.keras.layers.MaxPooling2D((2, 2)),\n",
        "    tf.keras.layers.Conv2D(64, (3, 3), activation='relu'),\n",
        "    tf.keras.layers.MaxPooling2D((2, 2)),\n",
        "    tf.keras.layers.Flatten(),\n",
        "    tf.keras.layers.Dense(64, activation='relu'),\n",
        "    tf.keras.layers.Dense(10, activation='softmax')\n",
        "])\n"
      ],
      "execution_count": 15,
      "outputs": []
    },
    {
      "cell_type": "code",
      "metadata": {
        "id": "NjIJ0nSvL5nV"
      },
      "source": [
        "# Compile the model\n",
        "model.compile(\n",
        "    loss = 'sparse_categorical_crossentropy',\n",
        "    optimizer = 'adam',\n",
        "    metrics = ['accuracy']\n",
        ")"
      ],
      "execution_count": 16,
      "outputs": []
    },
    {
      "cell_type": "code",
      "metadata": {
        "id": "5GsnpPR8dZCE",
        "colab": {
          "base_uri": "https://localhost:8080/"
        },
        "outputId": "c6bb641f-ea5f-4e56-ad8c-98d07252ea52"
      },
      "source": [
        "# Fit the Model\n",
        "_= model.fit(x= x_train, y=y_train, validation_data=(x_test, y_test),\n",
        "             batch_size=1024, epochs=30, verbose=2)"
      ],
      "execution_count": null,
      "outputs": [
        {
          "output_type": "stream",
          "name": "stdout",
          "text": [
            "Epoch 1/30\n",
            "59/59 - 45s - 763ms/step - accuracy: 0.8140 - loss: 0.7129 - val_accuracy: 0.9429 - val_loss: 0.1990\n",
            "Epoch 2/30\n",
            "59/59 - 82s - 1s/step - accuracy: 0.9518 - loss: 0.1600 - val_accuracy: 0.9683 - val_loss: 0.1040\n",
            "Epoch 3/30\n",
            "59/59 - 82s - 1s/step - accuracy: 0.9716 - loss: 0.0969 - val_accuracy: 0.9790 - val_loss: 0.0706\n",
            "Epoch 4/30\n",
            "59/59 - 82s - 1s/step - accuracy: 0.9775 - loss: 0.0747 - val_accuracy: 0.9828 - val_loss: 0.0586\n",
            "Epoch 5/30\n",
            "59/59 - 85s - 1s/step - accuracy: 0.9812 - loss: 0.0629 - val_accuracy: 0.9846 - val_loss: 0.0525\n",
            "Epoch 6/30\n",
            "59/59 - 79s - 1s/step - accuracy: 0.9836 - loss: 0.0545 - val_accuracy: 0.9836 - val_loss: 0.0487\n",
            "Epoch 7/30\n",
            "59/59 - 81s - 1s/step - accuracy: 0.9852 - loss: 0.0493 - val_accuracy: 0.9840 - val_loss: 0.0483\n",
            "Epoch 8/30\n",
            "59/59 - 83s - 1s/step - accuracy: 0.9868 - loss: 0.0442 - val_accuracy: 0.9879 - val_loss: 0.0381\n",
            "Epoch 9/30\n",
            "59/59 - 81s - 1s/step - accuracy: 0.9882 - loss: 0.0391 - val_accuracy: 0.9878 - val_loss: 0.0370\n",
            "Epoch 10/30\n",
            "59/59 - 90s - 2s/step - accuracy: 0.9888 - loss: 0.0370 - val_accuracy: 0.9864 - val_loss: 0.0380\n",
            "Epoch 11/30\n",
            "59/59 - 73s - 1s/step - accuracy: 0.9888 - loss: 0.0360 - val_accuracy: 0.9888 - val_loss: 0.0329\n",
            "Epoch 12/30\n",
            "59/59 - 44s - 739ms/step - accuracy: 0.9906 - loss: 0.0306 - val_accuracy: 0.9886 - val_loss: 0.0347\n",
            "Epoch 13/30\n",
            "59/59 - 42s - 719ms/step - accuracy: 0.9915 - loss: 0.0277 - val_accuracy: 0.9881 - val_loss: 0.0345\n",
            "Epoch 14/30\n",
            "59/59 - 84s - 1s/step - accuracy: 0.9920 - loss: 0.0272 - val_accuracy: 0.9874 - val_loss: 0.0352\n",
            "Epoch 15/30\n",
            "59/59 - 80s - 1s/step - accuracy: 0.9926 - loss: 0.0247 - val_accuracy: 0.9887 - val_loss: 0.0317\n",
            "Epoch 16/30\n",
            "59/59 - 82s - 1s/step - accuracy: 0.9926 - loss: 0.0237 - val_accuracy: 0.9879 - val_loss: 0.0369\n",
            "Epoch 17/30\n",
            "59/59 - 82s - 1s/step - accuracy: 0.9935 - loss: 0.0212 - val_accuracy: 0.9891 - val_loss: 0.0327\n",
            "Epoch 18/30\n",
            "59/59 - 42s - 717ms/step - accuracy: 0.9937 - loss: 0.0206 - val_accuracy: 0.9888 - val_loss: 0.0321\n",
            "Epoch 19/30\n",
            "59/59 - 83s - 1s/step - accuracy: 0.9941 - loss: 0.0189 - val_accuracy: 0.9887 - val_loss: 0.0324\n",
            "Epoch 20/30\n",
            "59/59 - 81s - 1s/step - accuracy: 0.9944 - loss: 0.0181 - val_accuracy: 0.9893 - val_loss: 0.0329\n",
            "Epoch 21/30\n",
            "59/59 - 83s - 1s/step - accuracy: 0.9952 - loss: 0.0160 - val_accuracy: 0.9911 - val_loss: 0.0287\n",
            "Epoch 22/30\n",
            "59/59 - 82s - 1s/step - accuracy: 0.9958 - loss: 0.0147 - val_accuracy: 0.9893 - val_loss: 0.0329\n",
            "Epoch 23/30\n",
            "59/59 - 81s - 1s/step - accuracy: 0.9958 - loss: 0.0138 - val_accuracy: 0.9896 - val_loss: 0.0326\n",
            "Epoch 24/30\n"
          ]
        }
      ]
    },
    {
      "cell_type": "markdown",
      "source": [
        "30 epoches\n"
      ],
      "metadata": {
        "id": "9p3L0pj_9UPs"
      }
    },
    {
      "cell_type": "markdown",
      "metadata": {
        "id": "bhW1vx8qMNgc"
      },
      "source": [
        "# Result"
      ]
    },
    {
      "cell_type": "code",
      "metadata": {
        "id": "lzwxHcx6H4Og",
        "colab": {
          "base_uri": "https://localhost:8080/",
          "height": 826
        },
        "outputId": "db2186a1-582c-47dd-a9b1-9a6f1f83c87a"
      },
      "source": [
        "#Plot the result\n",
        "plt.figure(figsize = (10, 10))\n",
        "for i in range(0,16):\n",
        "  plt.subplot(4, 4, i + 1)\n",
        "  plt.imshow(x_test[i].reshape([28,28]), cmap= 'binary')\n",
        "  plt.xlabel(str(y_test[i]))\n",
        "  plt.xticks([])\n",
        "  plt.yticks([])"
      ],
      "execution_count": 9,
      "outputs": [
        {
          "output_type": "display_data",
          "data": {
            "text/plain": [
              "<Figure size 1000x1000 with 16 Axes>"
            ],
            "image/png": "[encoded data removed]"
          },
          "metadata": {}
        }
      ]
    },
    {
      "cell_type": "markdown",
      "metadata": {
        "id": "Jr_aciEJMTG9"
      },
      "source": [
        "# Accuracy"
      ]
    },
    {
      "cell_type": "code",
      "metadata": {
        "id": "psNSr2S5IUaM",
        "colab": {
          "base_uri": "https://localhost:8080/"
        },
        "outputId": "f134f79d-a5ac-40e8-a960-46af1643c6e8"
      },
      "source": [
        "loss,accuracy = model.evaluate(x_test, y_test)\n",
        "print(\"Accuracy = \", accuracy * 100)"
      ],
      "execution_count": 10,
      "outputs": [
        {
          "output_type": "stream",
          "name": "stdout",
          "text": [
            "\u001b[1m313/313\u001b[0m \u001b[32m━━━━━━━━━━━━━━━━━━━━\u001b[0m\u001b[37m\u001b[0m \u001b[1m1s\u001b[0m 3ms/step - accuracy: 0.9407 - loss: 0.2050\n",
            "Accuracy =  94.8199987411499\n"
          ]
        }
      ]
    }
  ]
}